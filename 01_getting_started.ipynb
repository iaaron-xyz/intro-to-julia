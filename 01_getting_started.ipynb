{
 "cells": [
  {
   "cell_type": "markdown",
   "metadata": {},
   "source": [
    "# The basics of Julia\n",
    "\n",
    "Outline\n",
    "- How to declare variables\n",
    "- How to print on Screen\n",
    "- How to commment the code\n",
    "- Basic Types of Variables\n",
    "- Basic operations\n",
    "- Extra Resources"
   ]
  },
  {
   "cell_type": "markdown",
   "metadata": {},
   "source": [
    "## How to declare and Assign variables\n",
    "To declare a variable type its name and assign a value with the equal sign,\n",
    "- `<variable_name> = <variable_value>`\n",
    "- Variable names in Julia are case-sensitive\n",
    "\n",
    "Example:"
   ]
  },
  {
   "cell_type": "code",
   "execution_count": 1,
   "metadata": {},
   "outputs": [
    {
     "data": {
      "text/plain": [
       "137"
      ]
     },
     "metadata": {},
     "output_type": "display_data"
    }
   ],
   "source": [
    "number = 42\n",
    "Number = 137"
   ]
  },
  {
   "cell_type": "markdown",
   "metadata": {},
   "source": [
    "## Ho to print on Screen\n",
    "To print values the `println()` is used.\n",
    "```\n",
    "$ println(\"Hello World!\")\n",
    "Hello World!\n",
    "```\n",
    "\n",
    "Example:"
   ]
  },
  {
   "cell_type": "code",
   "execution_count": 2,
   "metadata": {},
   "outputs": [
    {
     "name": "stdout",
     "output_type": "stream",
     "text": [
      "Learning Julia!\n",
      "42\n",
      "137\n"
     ]
    }
   ],
   "source": [
    "println(\"Learning Julia!\")\n",
    "println(number)\n",
    "println(Number)"
   ]
  },
  {
   "cell_type": "markdown",
   "metadata": {},
   "source": [
    "## How to comment out the Code\n",
    "- To comment individual lines, use `#`.\n",
    "- To comment blocks of code use: `#=` to open and `=#` to close.\n",
    "\n",
    "Example:"
   ]
  },
  {
   "cell_type": "code",
   "execution_count": 3,
   "metadata": {},
   "outputs": [
    {
     "name": "stdout",
     "output_type": "stream",
     "text": [
      "This line will print something\n",
      "And this will too!\n"
     ]
    }
   ],
   "source": [
    "# To comment code is useful to understand the code\n",
    "println(\"This line will print something\")\n",
    "# println(\"But this not, unless I uncomment it D:\")\n",
    "\n",
    "#=\n",
    "This is a block of code\n",
    "and also it is commented out.\n",
    "=#\n",
    "\n",
    "println(\"And this will too!\")"
   ]
  },
  {
   "cell_type": "markdown",
   "metadata": {},
   "source": [
    "## Basic types of variables\n",
    "\n",
    "| Type | Example |\n",
    "| ------ | ------ |\n",
    "| `Int64` | integers: `5` |\n",
    "| `Float64` | floats: `3.14` |\n",
    "| `String` | String of characters: `Julia Lang` |\n",
    "| `Char` | Single characters: `'1'` |\n",
    "| `Bool` | Booleans: `true`, `false` |\n",
    "\n",
    "Example:\n"
   ]
  },
  {
   "cell_type": "code",
   "execution_count": 7,
   "metadata": {},
   "outputs": [
    {
     "name": "stdout",
     "output_type": "stream",
     "text": [
      "Int64\n",
      "Int64\n",
      "Float64\n",
      "String\n",
      "Char\n",
      "Bool\n"
     ]
    }
   ],
   "source": [
    "# type integer\n",
    "a = 5\n",
    "# typeog prints the type of the variable\n",
    "println(typeof(a))\n",
    "\n",
    "# Float\n",
    "f = 3.14\n",
    "println(typeof(f))\n",
    "\n",
    "# Strings\n",
    "s = \"Julia Lang\"\n",
    "println(typeof(s))\n",
    "\n",
    "# Characters\n",
    "c = '1'\n",
    "println(typeof(c))\n",
    "\n",
    "# Booleans\n",
    "b = true\n",
    "println(typeof(b))"
   ]
  },
  {
   "cell_type": "markdown",
   "metadata": {},
   "source": [
    "# Basic Operators\n",
    "\n",
    "| Symbol | Meaning |\n",
    "| ------ | ------ |\n",
    "| `+` | Addition |\n",
    "| `-` | Substraction |\n",
    "| `*` | Multiplication |\n",
    "| `/` | Division (quotient) |\n",
    "| `^` | Power |\n",
    "| `%` | Modulus |\n",
    "| `div(x,y)`, `÷` | Division integer (see [this](https://discourse.julialang.org/t/interger-division/36171/3)) |\n",
    "| `//` | Division Rational (least common fraction) |\n",
    "\n",
    "Example:"
   ]
  },
  {
   "cell_type": "code",
   "execution_count": 8,
   "metadata": {},
   "outputs": [
    {
     "name": "stdout",
     "output_type": "stream",
     "text": [
      "sum: 8.14\n",
      "subs: 1.8599999999999999\n",
      "mult: 25\n",
      "divq: 2.5\n",
      "pow: 32\n",
      "modulus: 2\n",
      "divint: 2\n",
      "divr: 5//2\n"
     ]
    }
   ],
   "source": [
    "sum = a + f\n",
    "subs = a - f\n",
    "mult = a * a\n",
    "divq = 10/4\n",
    "pow = 2^5\n",
    "modulus = 10 % 4\n",
    "divint = div(10,4)\n",
    "divr = 10 // 4\n",
    "\n",
    "# Print results\n",
    "println(\"sum: $sum\")\n",
    "println(\"subs: $subs\")\n",
    "println(\"mult: $mult\")\n",
    "println(\"divq: $divq\")\n",
    "println(\"pow: $pow\")\n",
    "println(\"modulus: $modulus\")\n",
    "println(\"divint: $divint\")\n",
    "println(\"divr: $divr\")\n"
   ]
  },
  {
   "cell_type": "markdown",
   "metadata": {},
   "source": [
    "## Extra Resources\n",
    "- Official documentation for Julia 1.7: https://docs.julialang.org/en/v1/"
   ]
  }
 ],
 "metadata": {
  "kernelspec": {
   "display_name": "Julia 1.7.2",
   "language": "julia",
   "name": "julia-1.7"
  },
  "language_info": {
   "file_extension": ".jl",
   "mimetype": "application/julia",
   "name": "julia",
   "version": "1.7.2"
  },
  "orig_nbformat": 4
 },
 "nbformat": 4,
 "nbformat_minor": 2
}
