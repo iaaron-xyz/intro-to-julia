{
 "cells": [
  {
   "cell_type": "markdown",
   "metadata": {},
   "source": [
    "# Strings\n",
    "\n",
    "Outline\n",
    "- Define strings\n",
    "- Strings interpolation\n",
    "- Strings concatenation\n"
   ]
  },
  {
   "cell_type": "markdown",
   "metadata": {},
   "source": [
    "## Define strings\n",
    "There are two ways to define a string. \n",
    "- Enclosing the text within `\" \"`\n",
    "- or within `\"\"\" \"\"\"\"`.\n",
    "    - You can quote words within this type of quotation.\n",
    "        - You can use `\" \"` or `' '` to quote within triple quotations marks.\n",
    "\n",
    "- Use `' '` to define chars\n",
    "\n",
    "If you want to write quotes within your string, then use the triple quoting, otherwise you'll get an error message.\n",
    "\n",
    "Examples:"
   ]
  },
  {
   "cell_type": "code",
   "execution_count": 8,
   "metadata": {},
   "outputs": [
    {
     "name": "stdout",
     "output_type": "stream",
     "text": [
      "This a string\n",
      "This is also a string\n",
      "Using \"quotation\" marks within triple quotations x_x \n",
      "You can use 'this' or \"this\" type of quotations\n"
     ]
    }
   ],
   "source": [
    "s1 = \"This a string\"\n",
    "s2 = \"\"\"This is also a string\"\"\"\n",
    "s3 = \"\"\"Using \"quotation\" marks within triple quotations x_x \"\"\"\n",
    "s4 = \"\"\"You can use 'this' or \"this\" type of quotations\"\"\"\n",
    "\n",
    "println(s1)\n",
    "println(s2)\n",
    "println(s3)\n",
    "println(s4)"
   ]
  },
  {
   "cell_type": "markdown",
   "metadata": {},
   "source": [
    "## String Interpolation\n",
    "- String interpolation refers to the act of join strings elements with no-string variables (like numbers, arrays, etc.).\n",
    "- To interpolate non-string elements use: `$` before the variable name.\n",
    "\n",
    "Examples:"
   ]
  },
  {
   "cell_type": "code",
   "execution_count": 3,
   "metadata": {},
   "outputs": [
    {
     "name": "stdout",
     "output_type": "stream",
     "text": [
      "The number is 27\n",
      "The sum is 33\n",
      "The month is December\n"
     ]
    }
   ],
   "source": [
    "x = 27\n",
    "y = 6\n",
    "s = \"December\"\n",
    "\n",
    "s1 = \"The number is $x\"\n",
    "s2 = \"The sum is $(x + y)\"\n",
    "s3 = \"The month is $s\"\n",
    "\n",
    "println(s1)\n",
    "println(s2)\n",
    "println(s3)"
   ]
  },
  {
   "cell_type": "markdown",
   "metadata": {},
   "source": [
    "## String Concatenation\n",
    "We can concatenate strings using the method `string()`\n",
    "\n",
    "Example:"
   ]
  },
  {
   "cell_type": "code",
   "execution_count": 12,
   "metadata": {},
   "outputs": [
    {
     "name": "stdout",
     "output_type": "stream",
     "text": [
      "Hello, World! My name is Aaron And I am20years old\n",
      "We can also use asterisk to concatenate 2 strings or more.\n"
     ]
    }
   ],
   "source": [
    "text1 = \"Hello, World! \"\n",
    "text2 = \"My name is \"\n",
    "name = \"Aaron\"\n",
    "text3 = \" And I am\"\n",
    "age = 20\n",
    "\n",
    "c1 = \"We can also use asterisk to \"\n",
    "c2 = \"concatenate 2 strings \"\n",
    "c3 = \"or more.\"\n",
    "\n",
    "conc = string(text1, text2, name, text3, age, \"years old\")\n",
    "conc2 = c1*c2*c3\n",
    "println(conc)\n",
    "println(conc2)"
   ]
  },
  {
   "cell_type": "markdown",
   "metadata": {},
   "source": [
    "## Some string methods\n",
    "\n",
    "- Repeat a string n times method: `repeat(string, n)` or `string^n`"
   ]
  },
  {
   "cell_type": "code",
   "execution_count": 3,
   "metadata": {},
   "outputs": [
    {
     "name": "stdout",
     "output_type": "stream",
     "text": [
      "hello hello hello hello hello hello hello hello hello hello \n",
      "Hi! Hi! Hi! \n"
     ]
    }
   ],
   "source": [
    "# Repeat a string n times\n",
    "n = 10\n",
    "repeated = \"hello \"^n\n",
    "repeated2 = repeat(\"Hi! \", 3)\n",
    "println(repeated)\n",
    "println(repeated2)"
   ]
  }
 ],
 "metadata": {
  "kernelspec": {
   "display_name": "Julia 1.7.2",
   "language": "julia",
   "name": "julia-1.7"
  },
  "language_info": {
   "file_extension": ".jl",
   "mimetype": "application/julia",
   "name": "julia",
   "version": "1.7.2"
  },
  "orig_nbformat": 4
 },
 "nbformat": 4,
 "nbformat_minor": 2
}
