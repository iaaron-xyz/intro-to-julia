{
 "cells": [
  {
   "cell_type": "markdown",
   "metadata": {},
   "source": [
    "# Data Structures\n",
    "Outline:\n",
    "- Tuples\n",
    "- Arrays\n",
    "- Dictionaries\n",
    "\n",
    "Characteristics:\n",
    "- Tuples and Arrays are ordered sequence of elements and can be indexed. Dictionaries are not.\n",
    "- Arrays and Dictionaries are mutable structures, so we can change its content at any time. Tuples are inmmutable once created (i.e. they cannot change)."
   ]
  },
  {
   "cell_type": "markdown",
   "metadata": {},
   "source": [
    "## Tuples\n",
    "- Tuples can be created enclosing its elements within `()`.\n",
    "- Tuples are inmmutable (they cannot chance once created).\n",
    "- Tuples are ordered sequence of elements and they can be indexed.\n",
    "- **Important**: The starting index in `Julia` is `1` and not `0` as commonly used in python and almost any other programming language.\n",
    "    - For example, in the array `[34, 42, 137]` the index `1` corresponds to `34`, the `2` to `42` and the `3` to `137`. \n",
    "\n",
    "E.g."
   ]
  },
  {
   "cell_type": "code",
   "execution_count": 4,
   "metadata": {},
   "outputs": [
    {
     "name": "stdout",
     "output_type": "stream",
     "text": [
      "(10, 21, 32)\n",
      "10\n"
     ]
    }
   ],
   "source": [
    "# Tuple definition\n",
    "myTuple = (10,21, 32)\n",
    "# print the whole tuple\n",
    "println(myTuple)\n",
    "# print specified element by the index\n",
    "println(myTuple[1])"
   ]
  },
  {
   "cell_type": "markdown",
   "metadata": {},
   "source": [
    "## Named Tuples\n",
    "In named tuples, the elements contained in it can be named, and called via its indexes or via its names"
   ]
  },
  {
   "cell_type": "code",
   "execution_count": 7,
   "metadata": {},
   "outputs": [
    {
     "name": "stdout",
     "output_type": "stream",
     "text": [
      "(a = 11, b = 37)\n",
      "11\n",
      "11\n"
     ]
    }
   ],
   "source": [
    "myNamedTuple = (a = 11, b = 27 + 10)\n",
    "println(myNamedTuple)\n",
    "println(myNamedTuple[1])\n",
    "println(myNamedTuple.a)"
   ]
  },
  {
   "cell_type": "markdown",
   "metadata": {},
   "source": [
    "## Arrays\n",
    "- In Julia arrays are mutable and ordered.\n",
    "- Arrays can be created by enclosing their elements with `[]`.\n",
    "- Since arrays are mutable, they can be updated.\n",
    "- Arrays can be indexed."
   ]
  },
  {
   "cell_type": "code",
   "execution_count": 26,
   "metadata": {},
   "outputs": [
    {
     "name": "stdout",
     "output_type": "stream",
     "text": [
      "Any[]\n",
      "Vector{Any}\n",
      "[\"America\", \"Asia\", \"Africa\"]\n",
      "Vector{String}\n",
      "Asia\n",
      "[\"Oceania\", \"Asia\", \"Africa\"]\n"
     ]
    }
   ],
   "source": [
    "# Define an empty array\n",
    "arr = []\n",
    "println(arr)\n",
    "println(typeof(arr))\n",
    "\n",
    "# Define an array\n",
    "continents = [\"America\", \"Asia\", \"Africa\"];\n",
    "println(continents)\n",
    "println(typeof(continents))\n",
    "\n",
    "# Get an element of the array via its index\n",
    "println(continents[2])\n",
    "\n",
    "# update/change the array\n",
    "continents[1] = \"Oceania\"\n",
    "println(continents)"
   ]
  },
  {
   "cell_type": "markdown",
   "metadata": {},
   "source": [
    "Two of the most common methods for arrays, are how to append and remove elements from an array:\n",
    "- `push!()` adds an element to the end of the array.\n",
    "- `pop!()` removes an specified element from the array.\n",
    "\n",
    "You can check more about `push`, `pop` and more methods [here](https://docs.julialang.org/en/v1/base/collections/#Base.push!)."
   ]
  },
  {
   "cell_type": "code",
   "execution_count": 23,
   "metadata": {},
   "outputs": [
    {
     "name": "stdout",
     "output_type": "stream",
     "text": [
      "[\"Oceania\", \"Asia\", \"Africa\", \"Antartica\"]\n",
      "[\"Oceania\", \"Asia\", \"Africa\"]\n"
     ]
    }
   ],
   "source": [
    "# add a new element\n",
    "push!(continents, \"Antartica\")\n",
    "println(continents)\n",
    "\n",
    "# Remove an element\n",
    "pop!(continents)\n",
    "println(continents)"
   ]
  },
  {
   "cell_type": "markdown",
   "metadata": {},
   "source": [
    "## Dictionaries\n",
    "\n",
    "- Dictionaries can be created using key and value pairs.\n",
    "- Are **unordered** elements.\n",
    "\n",
    "Syntax:\n",
    "```julia\n",
    "Dict(key1 => value1, key2 => value2, ...)\n",
    "```\n",
    "\n",
    "Example:"
   ]
  },
  {
   "cell_type": "code",
   "execution_count": 37,
   "metadata": {},
   "outputs": [
    {
     "name": "stdout",
     "output_type": "stream",
     "text": [
      "Dict(\"Jenny\" => \"867-5309\", \"Ghostbusters\" => \"555-2368\")\n",
      "The types of dictionaries in julia: Dict{Any, Any} and Dict{String, String}\n",
      "867-5309\n",
      "Dict(\"Jenny\" => \"867-5309\", \"Kramer\" => \"555-FILK\", \"Ghostbusters\" => \"555-2368\")\n",
      "Dict(\"Jenny\" => \"867-5309\", \"Kramer\" => \"555-FILK\")\n"
     ]
    }
   ],
   "source": [
    "# Example\n",
    "emptydict = Dict()\n",
    "myphonebook = Dict(\"Jenny\" => \"867-5309\", \"Ghostbusters\" => \"555-2368\")\n",
    "println(myphonebook)\n",
    "println(\"The types of dictionaries in julia: \", typeof(emptydict), \" and \", typeof(myphonebook))\n",
    "\n",
    "# Get a value via its key\n",
    "println(myphonebook[\"Jenny\"])\n",
    "\n",
    "# Add another entry defining the key and its value\n",
    "myphonebook[\"Kramer\"] = \"555-FILK\"\n",
    "println(myphonebook)\n",
    "\n",
    "# Delete a key-value pair\n",
    "pop!(myphonebook, \"Ghostbusters\")\n",
    "println(myphonebook)"
   ]
  },
  {
   "cell_type": "code",
   "execution_count": null,
   "metadata": {},
   "outputs": [],
   "source": []
  }
 ],
 "metadata": {
  "kernelspec": {
   "display_name": "Julia 1.7.2",
   "language": "julia",
   "name": "julia-1.7"
  },
  "language_info": {
   "file_extension": ".jl",
   "mimetype": "application/julia",
   "name": "julia",
   "version": "1.7.2"
  },
  "orig_nbformat": 4
 },
 "nbformat": 4,
 "nbformat_minor": 2
}
