{
 "cells": [
  {
   "cell_type": "markdown",
   "metadata": {},
   "source": [
    "# Data Structures\n",
    "Outline:\n",
    "- Tuples\n",
    "- Arrays\n",
    "- Dictionaries\n",
    "\n",
    "Characteristics:\n",
    "- Tuples and Arrays are ordered sequence of elements and can be indexed. Dictionaries are not.\n",
    "- Arrays and Dictionaries are mutable structures, so we can change its content at any time. Tuples are inmmutable once created (i.e. they cannot change)."
   ]
  },
  {
   "cell_type": "markdown",
   "metadata": {},
   "source": [
    "## Tuples\n",
    "- Tuples can be created enclosing its elements within `()`.\n",
    "- Tuples are inmmutable (they cannot chance once created).\n",
    "- Tuples are ordered sequence og elements and they can be indexed.\n",
    "\n",
    "E.g."
   ]
  },
  {
   "cell_type": "code",
   "execution_count": 1,
   "metadata": {},
   "outputs": [
    {
     "name": "stdout",
     "output_type": "stream",
     "text": [
      "(10, 21, 32)\n",
      "10\n"
     ]
    }
   ],
   "source": [
    "# Tuple definition\n",
    "myTuple = (10,21, 32)\n",
    "# print the whole tuple\n",
    "println(myTuple)\n",
    "# print specified element of the tuple\n",
    "println(myTuple[1])"
   ]
  },
  {
   "cell_type": "markdown",
   "metadata": {},
   "source": [
    "## Named Tuples"
   ]
  }
 ],
 "metadata": {
  "kernelspec": {
   "display_name": "Julia 1.7.2",
   "language": "julia",
   "name": "julia-1.7"
  },
  "language_info": {
   "file_extension": ".jl",
   "mimetype": "application/julia",
   "name": "julia",
   "version": "1.7.2"
  },
  "orig_nbformat": 4
 },
 "nbformat": 4,
 "nbformat_minor": 2
}
