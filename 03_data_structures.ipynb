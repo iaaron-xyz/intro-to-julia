{
 "cells": [
  {
   "cell_type": "markdown",
   "metadata": {},
   "source": [
    "# Data Structures\n",
    "Outline:\n",
    "- Tuples\n",
    "- Arrays\n",
    "- Dictionaries\n",
    "\n",
    "Characteristics:\n",
    "- Tuples and Arrays are ordered sequence of elements and can be indexed. Dictionaries are not.\n",
    "- Arrays and Dictionaries are mutable structures, so we can change its content at any time. Tuples are inmmutable once created (i.e. they cannot change)."
   ]
  },
  {
   "cell_type": "markdown",
   "metadata": {},
   "source": [
    "## Tuples\n",
    "- Tuples can be created enclosing its elements within `()`.\n",
    "- Tuples are inmmutable (they cannot chance once created).\n",
    "- Tuples are ordered sequence of elements and they can be indexed.\n",
    "- **Important**: The starting index in `Julia` is `1` and not `0` as commonly used in python and almost any other programming language.\n",
    "    - For example, in the array `[34, 42, 137]` the index `1` corresponds to `34`, the `2` to `42` and the `3` to `137`. \n",
    "\n",
    "**Syntax**\n",
    "```julia\n",
    "(item1, item2, ...)\n",
    "```\n",
    "\n",
    "E.g."
   ]
  },
  {
   "cell_type": "code",
   "execution_count": 27,
   "metadata": {},
   "outputs": [
    {
     "data": {
      "text/plain": [
       "(10, 21, 32)"
      ]
     },
     "metadata": {},
     "output_type": "display_data"
    }
   ],
   "source": [
    "# Create a Tuple\n",
    "myTuple = (10,21, 32)\n",
    "myTuple"
   ]
  },
  {
   "cell_type": "code",
   "execution_count": 28,
   "metadata": {},
   "outputs": [
    {
     "name": "stdout",
     "output_type": "stream",
     "text": [
      "(10, 21, 32)\n",
      "10\n"
     ]
    }
   ],
   "source": [
    "# print the whole tuple\n",
    "println(myTuple)\n",
    "# print specified element via indexing\n",
    "println(myTuple[1])"
   ]
  },
  {
   "cell_type": "markdown",
   "metadata": {},
   "source": [
    "## Named Tuples\n",
    "Exist a special typ of Tuples, called named tuples, the elements contained in it can be named, and called via its indexes or via its names. Mor info [here](https://docs.julialang.org/en/v1/manual/functions/#Named-Tuples).\n",
    "\n",
    "**Syntax**:\n",
    "```julia\n",
    "(name1 = val1, name2 = val2, ...)\n",
    "```"
   ]
  },
  {
   "cell_type": "code",
   "execution_count": 29,
   "metadata": {},
   "outputs": [
    {
     "data": {
      "text/plain": [
       "(a = 11, b = 37)"
      ]
     },
     "metadata": {},
     "output_type": "display_data"
    }
   ],
   "source": [
    "# Create a Named Tuple\n",
    "myNamedTuple = (a = 11, b = 27 + 10)\n",
    "myNamedTuple"
   ]
  },
  {
   "cell_type": "code",
   "execution_count": 30,
   "metadata": {},
   "outputs": [
    {
     "name": "stdout",
     "output_type": "stream",
     "text": [
      "(a = 11, b = 37)\n",
      "11\n",
      "11\n"
     ]
    }
   ],
   "source": [
    "# Get the Elements of a Named Tuple\n",
    "println(myNamedTuple)\n",
    "# Get element via index\n",
    "println(myNamedTuple[1])\n",
    "# Get element via its name\n",
    "println(myNamedTuple.a)"
   ]
  },
  {
   "cell_type": "markdown",
   "metadata": {},
   "source": [
    "## Arrays\n",
    "- In Julia arrays are mutable and ordered.\n",
    "- Arrays can be created by enclosing their elements with `[]`.\n",
    "- Since arrays are mutable, they can be updated.\n",
    "- Arrays can be indexed.\n",
    "\n",
    "**Syntax**\n",
    "```julia\n",
    "[item1, item2, item3, ...]\n",
    "```"
   ]
  },
  {
   "cell_type": "code",
   "execution_count": 31,
   "metadata": {},
   "outputs": [
    {
     "name": "stdout",
     "output_type": "stream",
     "text": [
      "Vector{Any}\n"
     ]
    },
    {
     "data": {
      "text/plain": [
       "Any[]"
      ]
     },
     "metadata": {},
     "output_type": "display_data"
    }
   ],
   "source": [
    "# Define an empty array\n",
    "arr = []\n",
    "println(typeof(arr))\n",
    "arr"
   ]
  },
  {
   "cell_type": "code",
   "execution_count": 32,
   "metadata": {},
   "outputs": [
    {
     "name": "stdout",
     "output_type": "stream",
     "text": [
      "Vector{String}\n"
     ]
    },
    {
     "data": {
      "text/plain": [
       "3-element Vector{String}:\n",
       " \"America\"\n",
       " \"Asia\"\n",
       " \"Africa\""
      ]
     },
     "metadata": {},
     "output_type": "display_data"
    }
   ],
   "source": [
    "# Define a non-empty array\n",
    "continents = [\"America\", \"Asia\", \"Africa\"];\n",
    "println(typeof(continents))\n",
    "continents"
   ]
  },
  {
   "cell_type": "code",
   "execution_count": 33,
   "metadata": {},
   "outputs": [
    {
     "name": "stdout",
     "output_type": "stream",
     "text": [
      "Asia\n",
      "[\"America\", \"Asia\", \"Africa\"]\n"
     ]
    },
    {
     "data": {
      "text/plain": [
       "3-element Vector{String}:\n",
       " \"Oceania\"\n",
       " \"Asia\"\n",
       " \"Africa\""
      ]
     },
     "metadata": {},
     "output_type": "display_data"
    }
   ],
   "source": [
    "# Get an element of the array via its index\n",
    "println(continents[2])\n",
    "println(continents)\n",
    "\n",
    "# update/change the array\n",
    "continents[1] = \"Oceania\"\n",
    "continents"
   ]
  },
  {
   "cell_type": "markdown",
   "metadata": {},
   "source": [
    "Two of the most common methods for arrays, are how to append and remove elements from an array:\n",
    "- `push!()` adds an element to the end of the array.\n",
    "- `pop!()` removes an specified element from the array.\n",
    "\n",
    "You can check more about `push`, `pop` and more methods [here](https://docs.julialang.org/en/v1/base/collections/#Base.push!)."
   ]
  },
  {
   "cell_type": "code",
   "execution_count": 34,
   "metadata": {},
   "outputs": [
    {
     "data": {
      "text/plain": [
       "4-element Vector{String}:\n",
       " \"Oceania\"\n",
       " \"Asia\"\n",
       " \"Africa\"\n",
       " \"Antartica\""
      ]
     },
     "metadata": {},
     "output_type": "display_data"
    }
   ],
   "source": [
    "# add a new element\n",
    "push!(continents, \"Antartica\")\n",
    "continents"
   ]
  },
  {
   "cell_type": "code",
   "execution_count": 35,
   "metadata": {},
   "outputs": [
    {
     "data": {
      "text/plain": [
       "3-element Vector{String}:\n",
       " \"Oceania\"\n",
       " \"Asia\"\n",
       " \"Africa\""
      ]
     },
     "metadata": {},
     "output_type": "display_data"
    }
   ],
   "source": [
    "# Remove an element\n",
    "pop!(continents)\n",
    "continents"
   ]
  },
  {
   "cell_type": "markdown",
   "metadata": {},
   "source": [
    "## Dictionaries\n",
    "\n",
    "- Dictionaries can be created using key and value pairs.\n",
    "- Are **unordered** elements.\n",
    "\n",
    "**Syntax**:\n",
    "```julia\n",
    "Dict(key1 => value1, key2 => value2, ...)\n",
    "```\n",
    "\n",
    "Example:"
   ]
  },
  {
   "cell_type": "code",
   "execution_count": 36,
   "metadata": {},
   "outputs": [
    {
     "name": "stdout",
     "output_type": "stream",
     "text": [
      "Dict{Any, Any}"
     ]
    },
    {
     "data": {
      "text/plain": [
       "Dict{Any, Any}()"
      ]
     },
     "metadata": {},
     "output_type": "display_data"
    }
   ],
   "source": [
    "# How to define an empty dictionary\n",
    "emptyDict = Dict()\n",
    "print(typeof(emptyDict))\n",
    "emptyDict\n"
   ]
  },
  {
   "cell_type": "code",
   "execution_count": 37,
   "metadata": {},
   "outputs": [
    {
     "name": "stdout",
     "output_type": "stream",
     "text": [
      "Dict{String, String}\n"
     ]
    },
    {
     "data": {
      "text/plain": [
       "Dict{String, String} with 2 entries:\n",
       "  \"Jenny\"        => \"867-5309\"\n",
       "  \"Ghostbusters\" => \"555-2368\""
      ]
     },
     "metadata": {},
     "output_type": "display_data"
    }
   ],
   "source": [
    "# How to define a non-empty dictionary\n",
    "myPhoneBook = Dict(\"Jenny\" => \"867-5309\", \"Ghostbusters\" => \"555-2368\")\n",
    "# Print the typeof dictioanry\n",
    "println(typeof(myPhoneBook))\n",
    "myPhoneBook"
   ]
  },
  {
   "cell_type": "code",
   "execution_count": 39,
   "metadata": {},
   "outputs": [
    {
     "name": "stdout",
     "output_type": "stream",
     "text": [
      "867-5309\n",
      "Dict(\"Jenny\" => \"867-5309\", \"Kramer\" => \"555-FILK\", \"Ghostbusters\" => \"555-2368\")\n",
      "Dict(\"Jenny\" => \"867-5309\", \"Kramer\" => \"555-FILK\")\n"
     ]
    }
   ],
   "source": [
    "# Get a value via its key\n",
    "println(myPhoneBook[\"Jenny\"])\n",
    "\n",
    "# Add another entry defining the key and its value\n",
    "myPhoneBook[\"Kramer\"] = \"555-FILK\"\n",
    "println(myPhoneBook)\n",
    "\n",
    "# Delete a key-value pair\n",
    "pop!(myPhoneBook, \"Ghostbusters\")\n",
    "println(myPhoneBook)"
   ]
  }
 ],
 "metadata": {
  "kernelspec": {
   "display_name": "Julia 1.7.2",
   "language": "julia",
   "name": "julia-1.7"
  },
  "language_info": {
   "file_extension": ".jl",
   "mimetype": "application/julia",
   "name": "julia",
   "version": "1.7.2"
  },
  "orig_nbformat": 4
 },
 "nbformat": 4,
 "nbformat_minor": 2
}
