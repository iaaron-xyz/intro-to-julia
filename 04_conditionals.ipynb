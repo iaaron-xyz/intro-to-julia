{
 "cells": [
  {
   "cell_type": "markdown",
   "metadata": {},
   "source": [
    "# Conditionals\n",
    "\n",
    "## `if-elseif-else`\n",
    "\n",
    "**Syntax**\n",
    "```julia\n",
    "if <condition 1>\n",
    "    <body 1>\n",
    "elseif <condition 2>\n",
    "    <body 2>\n",
    "else\n",
    "    <body 3>\n",
    "end\n",
    "```"
   ]
  },
  {
   "cell_type": "code",
   "execution_count": 6,
   "metadata": {},
   "outputs": [
    {
     "name": "stdout",
     "output_type": "stream",
     "text": [
      "You are an adult\n"
     ]
    }
   ],
   "source": [
    "# Example 1\n",
    "years = 32\n",
    "if (years < 12)\n",
    "    println(\"You ara a kid\")\n",
    "elseif (years < 18)\n",
    "    println(\"You are a teen\")\n",
    "else\n",
    "    println(\"You are an adult\")\n",
    "end"
   ]
  },
  {
   "cell_type": "code",
   "execution_count": 20,
   "metadata": {},
   "outputs": [
    {
     "name": "stdout",
     "output_type": "stream",
     "text": [
      "14\n"
     ]
    }
   ],
   "source": [
    "# Example 2\n",
    "# N can pick one of the numbers within the tuple\n",
    "N = rand((1,2,3,4,5,6,7,8,9,10,11,12,13,14,15))\n",
    "if (N % 3 == 0) && (N % 5 == 0) # `&&` means \"AND\"; % computes the remainder after division\n",
    "    println(\"FizzBuzz\")\n",
    "elseif N % 3 == 0\n",
    "    println(\"Fizz\")\n",
    "elseif N % 5 == 0\n",
    "    println(\"Buzz\")\n",
    "else\n",
    "    println(N)\n",
    "end"
   ]
  },
  {
   "cell_type": "markdown",
   "metadata": {},
   "source": [
    "## Ternary operators\n",
    "\n",
    "A ternary operator can be used to write and shorter if statements.\n",
    "\n",
    "**Syntax**\n",
    "```julia\n",
    "a ? b : c\n",
    "```\n",
    "Is equivalent to:\n",
    "```julia\n",
    "if a\n",
    "    b\n",
    "else\n",
    "    c\n",
    "end\n",
    "```"
   ]
  },
  {
   "cell_type": "code",
   "execution_count": 22,
   "metadata": {},
   "outputs": [
    {
     "name": "stdout",
     "output_type": "stream",
     "text": [
      "x=22 is NOT bigger.\n"
     ]
    }
   ],
   "source": [
    "# Normal way\n",
    "x, y = 22, 32\n",
    "if (x > y)\n",
    "    println(\"x=$x is bigger.\")\n",
    "else\n",
    "    println(\"x=$x is NOT bigger.\")\n",
    "end"
   ]
  },
  {
   "cell_type": "code",
   "execution_count": 23,
   "metadata": {},
   "outputs": [
    {
     "name": "stdout",
     "output_type": "stream",
     "text": [
      "x=22 is NOT bigger.\n"
     ]
    }
   ],
   "source": [
    "# Ternary mode\n",
    "(x > y) ? println(\"x=$x is bigger.\") : println(\"x=$x is NOT bigger.\")"
   ]
  },
  {
   "cell_type": "markdown",
   "metadata": {},
   "source": [
    "## Short-Circuit evaluation\n",
    "\n",
    "### Short circuit (and)\n",
    "**Syntax**\n",
    "```julia\n",
    "a && b\n",
    "```\n",
    "\n",
    "- Return true if both `a` and `b` are true.\n",
    "- If `a` is false, Julia doesn't even need to know the value of `b`.\n",
    "\n",
    "So Julia doesn't even need to check what `b` is; it can just \"short-circuit\" and immediately return `false`.  The second argument `b` might be a more complicated expression like a function call with a side-effect, in which case it won't even be called.\n",
    "\n",
    "On the other hand, if `a` is true, Julia knows it can just return the value of `b` as the overall expression. This means that `b` doesn't necessarily need evaluate to `true` or `false`!  `b` could even be an error.\n",
    "\n",
    "### Short circuit (or)\n",
    "**Syntax**\n",
    "```julia\n",
    "a || b \n",
    "```\n",
    "Similarly, check out the `||` operator, which also uses short-circuit evaluation to perform the \"or\" operation."
   ]
  },
  {
   "cell_type": "code",
   "execution_count": 24,
   "metadata": {},
   "outputs": [
    {
     "data": {
      "text/plain": [
       "false"
      ]
     },
     "metadata": {},
     "output_type": "display_data"
    }
   ],
   "source": [
    "# When a is false\n",
    "false && (println(\"hi\"); true)"
   ]
  },
  {
   "cell_type": "code",
   "execution_count": 25,
   "metadata": {},
   "outputs": [
    {
     "name": "stdout",
     "output_type": "stream",
     "text": [
      "hi\n"
     ]
    },
    {
     "data": {
      "text/plain": [
       "true"
      ]
     },
     "metadata": {},
     "output_type": "display_data"
    }
   ],
   "source": [
    "# When a is true\n",
    "true && (println(\"hi\"); true)"
   ]
  },
  {
   "cell_type": "code",
   "execution_count": 26,
   "metadata": {},
   "outputs": [
    {
     "ename": "ErrorException",
     "evalue": "x cannot be greater than 0",
     "output_type": "error",
     "traceback": [
      "x cannot be greater than 0\n",
      "\n",
      "Stacktrace:\n",
      " [1] error(s::String)\n",
      "   @ Base .\\error.jl:33\n",
      " [2] top-level scope\n",
      "   @ d:\\Mis archivos\\Proyectos\\Coding\\julia-projects\\intro-to-julia\\04_conditionals.ipynb:1"
     ]
    }
   ],
   "source": [
    "(x > 0) && error(\"x cannot be greater than 0\")"
   ]
  },
  {
   "cell_type": "code",
   "execution_count": 28,
   "metadata": {},
   "outputs": [
    {
     "data": {
      "text/plain": [
       "true"
      ]
     },
     "metadata": {},
     "output_type": "display_data"
    }
   ],
   "source": [
    "true || println(\"hi\")"
   ]
  },
  {
   "cell_type": "code",
   "execution_count": 29,
   "metadata": {},
   "outputs": [
    {
     "name": "stdout",
     "output_type": "stream",
     "text": [
      "hi\n"
     ]
    }
   ],
   "source": [
    "false || println(\"hi\")"
   ]
  },
  {
   "cell_type": "markdown",
   "metadata": {},
   "source": [
    "## Exercises\n",
    "\n",
    "1. Write a conditional statement that prints a number if the number is even and the string \"odd\" if the number is odd.\n",
    "2. Rewrite the code from 5.1 using a ternary operator."
   ]
  },
  {
   "cell_type": "code",
   "execution_count": 39,
   "metadata": {},
   "outputs": [
    {
     "name": "stdout",
     "output_type": "stream",
     "text": [
      "odd\n"
     ]
    }
   ],
   "source": [
    "# 1 - Even or Odd\n",
    "myNumber = 13\n",
    "if (myNumber % 2 == 0)\n",
    "    println(myNumber)\n",
    "else\n",
    "    println(\"odd\")\n",
    "end"
   ]
  },
  {
   "cell_type": "code",
   "execution_count": 40,
   "metadata": {},
   "outputs": [
    {
     "name": "stdout",
     "output_type": "stream",
     "text": [
      "odd\n"
     ]
    }
   ],
   "source": [
    "# 2 - Even or Odd using ternary operator\n",
    "(myNumber%2 == 0) ? println(myNumber) : println(\"odd\")"
   ]
  },
  {
   "cell_type": "markdown",
   "metadata": {},
   "source": [
    "## Extra References\n",
    "\n",
    "- [Conditional Evaluation](https://docs.julialang.org/en/v1/manual/control-flow/#man-conditional-evaluation).\n",
    "- [Short-Circuit Evaluation](https://docs.julialang.org/en/v1/manual/control-flow/#Short-Circuit-Evaluation)."
   ]
  }
 ],
 "metadata": {
  "kernelspec": {
   "display_name": "Julia 1.7.2",
   "language": "julia",
   "name": "julia-1.7"
  },
  "language_info": {
   "file_extension": ".jl",
   "mimetype": "application/julia",
   "name": "julia",
   "version": "1.7.2"
  },
  "orig_nbformat": 4,
  "vscode": {
   "interpreter": {
    "hash": "1283c77b2b780b47cbce158e299ad4e771cc29df7498c84b189bdaf5c310823a"
   }
  }
 },
 "nbformat": 4,
 "nbformat_minor": 2
}
